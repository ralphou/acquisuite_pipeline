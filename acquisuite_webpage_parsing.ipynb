{
 "cells": [
  {
   "cell_type": "code",
   "execution_count": null,
   "metadata": {},
   "outputs": [],
   "source": [
    "from bs4 import BeautifulSoup\n",
    "import xml.etree.ElementTree as ET\n",
    "from xml.etree.ElementTree import ElementTree\n",
    "import requests"
   ]
  },
  {
   "cell_type": "code",
   "execution_count": null,
   "metadata": {},
   "outputs": [],
   "source": [
    "#http://131.243.229.11/setup/loggersetup.cgi?ADDRESS=42&REFRESH=Advanced, signal strength\n",
    "#http://131.243.229.11/setup/devlist.cgi?SETUP=XML, device list\n",
    "devices_xml = requests.get(\"http://131.243.229.11/setup/devlist.cgi?SETUP=XML\", auth=('admin', '8o14i^Km')).text\n",
    "tree = ET.ElementTree(ET.fromstring(devices_xml))\n",
    "\n",
    "root = xmlTree.getroot()\n",
    "device_names = []\n",
    "\n",
    "for address in root.iter('devices'):\n",
    "    device_names.append(device.attrib['address'])\n",
    "    \n"
   ]
  },
  {
   "cell_type": "code",
   "execution_count": null,
   "metadata": {},
   "outputs": [],
   "source": [
    "#Use to test beautiful soup, need to filter maybe\n",
    "test = requests.get(\"http://131.243.229.11/setup/loggersetup.cgi?ADDRESS=42&REFRESH=Advanced\", \n",
    "                    auth=('admin', '8o14i^Km')).text"
   ]
  },
  {
   "cell_type": "code",
   "execution_count": null,
   "metadata": {},
   "outputs": [],
   "source": [
    "for device in device_names:\n",
    "    html_string = requests.get(\"http://131.243.229.11/setup/loggersetup.cgi?ADDRESS=\" + str(device) + \"&REFRESH=Advanced\",\n",
    "                              auth=('admin', '8o14i^Km'))\n",
    "    "
   ]
  },
  {
   "cell_type": "code",
   "execution_count": null,
   "metadata": {},
   "outputs": [],
   "source": []
  },
  {
   "cell_type": "code",
   "execution_count": null,
   "metadata": {},
   "outputs": [],
   "source": []
  }
 ],
 "metadata": {
  "kernelspec": {
   "display_name": "Python 3",
   "language": "python",
   "name": "python3"
  },
  "language_info": {
   "codemirror_mode": {
    "name": "ipython",
    "version": 3
   },
   "file_extension": ".py",
   "mimetype": "text/x-python",
   "name": "python",
   "nbconvert_exporter": "python",
   "pygments_lexer": "ipython3",
   "version": "3.7.3"
  }
 },
 "nbformat": 4,
 "nbformat_minor": 2
}
